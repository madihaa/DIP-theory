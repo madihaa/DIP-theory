{
 "cells": [
  {
   "cell_type": "code",
   "execution_count": 1,
   "metadata": {
    "collapsed": false
   },
   "outputs": [],
   "source": [
    "import numpy as np"
   ]
  },
  {
   "cell_type": "code",
   "execution_count": 8,
   "metadata": {
    "collapsed": false
   },
   "outputs": [],
   "source": [
    "import cv2\n",
    "\n",
    "\n",
    "img = cv2.imread('lena.png',0)\n",
    "cv2.imshow('image',img)\n",
    "cv2.waitKey(0)\n",
    "cv2.destroyAllWindows()"
   ]
  },
  {
   "cell_type": "code",
   "execution_count": 15,
   "metadata": {
    "collapsed": false
   },
   "outputs": [],
   "source": [
    "import numpy as np\n",
    "import cv2\n",
    "\n",
    "\n",
    "img = np.zeros((512,512,3), np.uint8)\n",
    "img = cv2.rectangle(img,(500,500),(10,10),(0,255,0),3)\n",
    "\n",
    "\n",
    "img = cv2.line(img,(250,260),(250,171),(255,0,0),2)\n",
    "img = cv2.line(img,(250,200),(190,210),(255,0,0),2)\n",
    "img = cv2.line(img,(250,200),(315,210),(255,0,0),2)\n",
    "img = cv2.line(img,(250,260),(190,300),(255,0,0),2)\n",
    "img = cv2.line(img,(250,260),(300,300),(255,0,0),2)\n",
    "img = cv2.line(img,(250,10),(250,170),(255,255,255),2)\n",
    "img = cv2.circle(img,(250,150), 10, (0,0,255), 20)\n",
    "\n",
    "\n",
    "font = cv2.FONT_HERSHEY_SIMPLEX\n",
    "cv2.putText(img,'HangMan',(10,500), font, 3.5,(255,0,255),2,cv2.LINE_AA)\n",
    "cv2.imshow('image',img)\n",
    "cv2.waitKey(0)\n",
    "cv2.destroyAllWindows()"
   ]
  }
 ],
 "metadata": {
  "anaconda-cloud": {},
  "kernelspec": {
   "display_name": "Python [Root]",
   "language": "python",
   "name": "Python [Root]"
  },
  "language_info": {
   "codemirror_mode": {
    "name": "ipython",
    "version": 3.0
   },
   "file_extension": ".py",
   "mimetype": "text/x-python",
   "name": "python",
   "nbconvert_exporter": "python",
   "pygments_lexer": "ipython3",
   "version": "3.5.2"
  }
 },
 "nbformat": 4,
 "nbformat_minor": 0
}